{
 "cells": [
  {
   "cell_type": "markdown",
   "metadata": {},
   "source": [
    "# LSTM"
   ]
  },
  {
   "cell_type": "code",
   "execution_count": 1,
   "metadata": {},
   "outputs": [
    {
     "name": "stderr",
     "output_type": "stream",
     "text": [
      "2024-11-20 22:49:43.283719: I tensorflow/core/util/port.cc:153] oneDNN custom operations are on. You may see slightly different numerical results due to floating-point round-off errors from different computation orders. To turn them off, set the environment variable `TF_ENABLE_ONEDNN_OPTS=0`.\n",
      "2024-11-20 22:49:43.285595: I external/local_xla/xla/tsl/cuda/cudart_stub.cc:32] Could not find cuda drivers on your machine, GPU will not be used.\n",
      "2024-11-20 22:49:43.295479: I external/local_xla/xla/tsl/cuda/cudart_stub.cc:32] Could not find cuda drivers on your machine, GPU will not be used.\n",
      "2024-11-20 22:49:43.305782: E external/local_xla/xla/stream_executor/cuda/cuda_fft.cc:477] Unable to register cuFFT factory: Attempting to register factory for plugin cuFFT when one has already been registered\n",
      "WARNING: All log messages before absl::InitializeLog() is called are written to STDERR\n",
      "E0000 00:00:1732139383.330894   67632 cuda_dnn.cc:8310] Unable to register cuDNN factory: Attempting to register factory for plugin cuDNN when one has already been registered\n",
      "E0000 00:00:1732139383.335730   67632 cuda_blas.cc:1418] Unable to register cuBLAS factory: Attempting to register factory for plugin cuBLAS when one has already been registered\n",
      "2024-11-20 22:49:43.375493: I tensorflow/core/platform/cpu_feature_guard.cc:210] This TensorFlow binary is optimized to use available CPU instructions in performance-critical operations.\n",
      "To enable the following instructions: AVX2 AVX512F AVX512_VNNI FMA, in other operations, rebuild TensorFlow with the appropriate compiler flags.\n"
     ]
    }
   ],
   "source": [
    "import numpy as np\n",
    "import pandas as pd\n",
    "from sklearn.preprocessing import MinMaxScaler\n",
    "from sklearn.model_selection import train_test_split\n",
    "from tensorflow.keras.models import Sequential\n",
    "from tensorflow.keras.layers import LSTM, Dense, Dropout"
   ]
  },
  {
   "cell_type": "code",
   "execution_count": 2,
   "metadata": {},
   "outputs": [],
   "source": [
    "file_path = 'data/'\n",
    "\n",
    "X_train = pd.read_csv(file_path + 'train_f_x.csv') #  entre le 1er janvier 2015 et le 31 décembre 2022 (soit 2922 jours)\n",
    "y_train = pd.read_csv(file_path + 'y_train_sncf.csv', index_col=0)\n",
    "X_test = pd.read_csv(file_path + 'test_f_x_THurtzP.csv', index_col=0) # entre le 1er janvier 2023 et le 30 juin 2023 (soit 181 jours) \n",
    "\n",
    "X_train['index'] = X_train['date'].astype(str) + '_' + X_train['station'].astype(str)\n",
    "X_train = X_train.set_index('index')\n",
    "\n",
    "X_train['date'] = pd.to_datetime(X_train['date'])\n",
    "X_test['date'] = pd.to_datetime(X_test['date'])"
   ]
  },
  {
   "cell_type": "code",
   "execution_count": 3,
   "metadata": {},
   "outputs": [],
   "source": [
    "def create_features(df):\n",
    "    ''' Create features from date '''\n",
    "    df['day'] = df['date'].dt.day\n",
    "    df['month'] = df['date'].dt.month\n",
    "    df['year'] = df['date'].dt.year\n",
    "    df['dayofweek'] = df['date'].dt.dayofweek\n",
    "    return df"
   ]
  },
  {
   "cell_type": "code",
   "execution_count": null,
   "metadata": {},
   "outputs": [],
   "source": [
    "def add_lags(df_x, df_y):\n",
    "    ''' Add lags '''\n",
    "    target_map = df_y['y'].to_dict()\n",
    "\n",
    "    df_x['lagDay'] = (\n",
    "        (df_x.date - pd.DateOffset(days=1))\n",
    "        .dt.strftime('%Y-%m-%d') + '_' + df_x.station\n",
    "    ).map(target_map)\n",
    "    \n",
    "    df_x['lagWeek'] = (\n",
    "        (df_x.date - pd.DateOffset(days=7))\n",
    "        .dt.strftime('%Y-%m-%d') + '_' + df_x.station\n",
    "    ).map(target_map)\n",
    "\n",
    "    return df_x"
   ]
  },
  {
   "cell_type": "code",
   "execution_count": 5,
   "metadata": {},
   "outputs": [],
   "source": [
    "X_train = create_features(X_train)\n",
    "X_train = add_lags(X_train, y_train)\n",
    "X_test = create_features(X_test)\n",
    "X_test = add_lags(X_test, y_train)"
   ]
  },
  {
   "cell_type": "code",
   "execution_count": 6,
   "metadata": {},
   "outputs": [
    {
     "name": "stderr",
     "output_type": "stream",
     "text": [
      "W0000 00:00:1732139430.213153   67632 gpu_device.cc:2344] Cannot dlopen some GPU libraries. Please make sure the missing libraries mentioned above are installed properly if you would like to use GPU. Follow the guide at https://www.tensorflow.org/install/gpu for how to download and setup the required libraries for your platform.\n",
      "Skipping registering GPU devices...\n",
      "/home/isarigue/miniconda3/envs/stasc/lib/python3.12/site-packages/keras/src/layers/rnn/rnn.py:204: UserWarning: Do not pass an `input_shape`/`input_dim` argument to a layer. When using Sequential models, prefer using an `Input(shape)` object as the first layer in the model instead.\n",
      "  super().__init__(**kwargs)\n"
     ]
    },
    {
     "name": "stdout",
     "output_type": "stream",
     "text": [
      "Epoch 1/20\n",
      "38434/38434 - 73s - 2ms/step - loss: nan\n",
      "Epoch 2/20\n",
      "38434/38434 - 67s - 2ms/step - loss: nan\n",
      "Epoch 3/20\n",
      "38434/38434 - 79s - 2ms/step - loss: nan\n",
      "Epoch 4/20\n",
      "38434/38434 - 49s - 1ms/step - loss: nan\n",
      "Epoch 5/20\n",
      "38434/38434 - 36s - 940us/step - loss: nan\n",
      "Epoch 6/20\n",
      "38434/38434 - 38s - 978us/step - loss: nan\n",
      "Epoch 7/20\n",
      "38434/38434 - 37s - 969us/step - loss: nan\n",
      "Epoch 8/20\n",
      "38434/38434 - 37s - 973us/step - loss: nan\n",
      "Epoch 9/20\n",
      "38434/38434 - 41s - 1ms/step - loss: nan\n",
      "Epoch 10/20\n",
      "38434/38434 - 41s - 1ms/step - loss: nan\n",
      "Epoch 11/20\n",
      "38434/38434 - 41s - 1ms/step - loss: nan\n",
      "Epoch 12/20\n",
      "38434/38434 - 40s - 1ms/step - loss: nan\n",
      "Epoch 13/20\n",
      "38434/38434 - 36s - 950us/step - loss: nan\n",
      "Epoch 14/20\n",
      "38434/38434 - 37s - 975us/step - loss: nan\n",
      "Epoch 15/20\n",
      "38434/38434 - 37s - 970us/step - loss: nan\n",
      "Epoch 16/20\n",
      "38434/38434 - 41s - 1ms/step - loss: nan\n",
      "Epoch 17/20\n",
      "38434/38434 - 44s - 1ms/step - loss: nan\n",
      "Epoch 18/20\n",
      "38434/38434 - 39s - 1ms/step - loss: nan\n",
      "Epoch 19/20\n",
      "38434/38434 - 38s - 990us/step - loss: nan\n",
      "Epoch 20/20\n",
      "38434/38434 - 38s - 982us/step - loss: nan\n"
     ]
    }
   ],
   "source": [
    "# Filtrar apenas as features e variáveis alvo\n",
    "features = ['lagDay', 'lagWeek', 'day', 'month', 'year', 'dayofweek', 'job', 'ferie', 'vacances']\n",
    "X_train = X_train[features]\n",
    "X_test = X_test[features]\n",
    "y_train = y_train['y']  # variável alvo\n",
    "\n",
    "# Normalizar os dados\n",
    "scaler = MinMaxScaler()\n",
    "X_train = scaler.fit_transform(X_train)\n",
    "X_test = scaler.transform(X_test)\n",
    "\n",
    "# Converter para o formato 3D necessário para LSTM (samples, timesteps, features)\n",
    "X_train = X_train.reshape(X_train.shape[0], 1, X_train.shape[1])\n",
    "X_test = X_test.reshape(X_test.shape[0], 1, X_test.shape[1])\n",
    "\n",
    "# Construir o modelo LSTM\n",
    "model = Sequential()\n",
    "model.add(LSTM(50, activation='relu', input_shape=(X_train.shape[1], X_train.shape[2])))\n",
    "model.add(Dropout(0.2))  # Para reduzir overfitting\n",
    "model.add(Dense(1))  # Saída única para prever o valor de 'y'\n",
    "\n",
    "# Compilar o modelo\n",
    "model.compile(optimizer='adam', loss='mean_squared_error')\n",
    "\n",
    "# Treinar o modelo\n",
    "history = model.fit(X_train, y_train, epochs=20, batch_size=32, verbose=2)"
   ]
  },
  {
   "cell_type": "code",
   "execution_count": null,
   "metadata": {},
   "outputs": [],
   "source": [
    "# Predict using the trained model\n",
    "y_pred = pd.DataFrame(index=X_test.index)\n",
    "y_pred_vals = model.predict(X_test)\n",
    "y_pred['y'] = np.clip(y_pred_vals, 0, None).astype(int) # Clip negative values to 0\n",
    "y_pred.to_csv(file_path + 'y_pred_lstm.csv')"
   ]
  },
  {
   "cell_type": "code",
   "execution_count": 10,
   "metadata": {},
   "outputs": [
    {
     "name": "stdout",
     "output_type": "stream",
     "text": [
      "\u001b[1m2458/2458\u001b[0m \u001b[32m━━━━━━━━━━━━━━━━━━━━\u001b[0m\u001b[37m\u001b[0m \u001b[1m2s\u001b[0m 739us/step\n",
      "Previsões para o conjunto de teste:                                   y\n",
      "index                              \n",
      "2023-01-01_1J7 -9223372036854775808\n",
      "2023-01-01_O2O -9223372036854775808\n",
      "2023-01-01_8QR -9223372036854775808\n",
      "2023-01-01_L58 -9223372036854775808\n",
      "2023-01-01_UMC -9223372036854775808\n",
      "...                             ...\n",
      "2023-05-31_N9K -9223372036854775808\n",
      "2023-05-31_P6E -9223372036854775808\n",
      "2023-05-31_BDC -9223372036854775808\n",
      "2023-05-31_QD6 -9223372036854775808\n",
      "2023-05-31_W14 -9223372036854775808\n",
      "\n",
      "[78652 rows x 1 columns]\n"
     ]
    },
    {
     "name": "stderr",
     "output_type": "stream",
     "text": [
      "/tmp/ipykernel_67632/1223165092.py:6: RuntimeWarning: invalid value encountered in cast\n",
      "  y_pred['y'] = np.clip(y_pred_vals, 0, None).astype(int) # Clip negative values to 0\n"
     ]
    }
   ],
   "source": [
    "X_test_aux = pd.read_csv(file_path + 'test_f_x_THurtzP.csv', index_col=0) \n",
    "\n",
    "# Predict using the trained model\n",
    "y_pred = pd.DataFrame(index=X_test_aux.index)\n",
    "y_pred_vals = model.predict(X_test)\n",
    "y_pred['y'] = np.clip(y_pred_vals, 0, None).astype(int) # Clip negative values to 0\n",
    "y_pred.to_csv(file_path + 'y_pred_lstm.csv')\n",
    "\n",
    "# Avaliar o modelo\n",
    "#from sklearn.metrics import mean_absolute_percentage_error\n",
    "# Se tiver y_test, pode-se usar: mape = mean_absolute_percentage_error(y_test, y_pred)\n",
    "print(f\"Previsões para o conjunto de teste: {y_pred}\")"
   ]
  }
 ],
 "metadata": {
  "kernelspec": {
   "display_name": "stasc",
   "language": "python",
   "name": "python3"
  },
  "language_info": {
   "codemirror_mode": {
    "name": "ipython",
    "version": 3
   },
   "file_extension": ".py",
   "mimetype": "text/x-python",
   "name": "python",
   "nbconvert_exporter": "python",
   "pygments_lexer": "ipython3",
   "version": "3.12.2"
  }
 },
 "nbformat": 4,
 "nbformat_minor": 2
}
